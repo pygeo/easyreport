{
 "metadata": {
  "name": "",
  "signature": "sha256:e702f0568aac868e4e4e26ecd4bea119bccce087670b41ad9776aaeb0b5c9676"
 },
 "nbformat": 3,
 "nbformat_minor": 0,
 "worksheets": [
  {
   "cells": [
    {
     "cell_type": "heading",
     "level": 1,
     "metadata": {},
     "source": [
      "Create example data for easyreport"
     ]
    },
    {
     "cell_type": "code",
     "collapsed": false,
     "input": [
      "import yaml\n",
      "import os\n",
      "import matplotlib.pyplot as plt\n",
      "import numpy as np\n",
      "\n",
      "wdir = '.' + os.sep + 'working' + os.sep\n",
      "odir =  wdir + 'data' + os.sep\n",
      "\n",
      "#if not os.path.exists(odir):\n",
      "#    os.system('mkdir -p ' + odir)  # makedirs does not work for some reason\n",
      "\n",
      "if not os.path.exists(odir):\n",
      "    os.makedirs(odir)\n",
      "\n",
      "res = {}\n",
      "\n",
      "models = ['MPI-ESM-LR', 'GFDL', 'MPI-ESM-MR']\n",
      "observations = ['GlobSnow', 'GlobAlbedo', 'CCI-Aerosol']\n",
      "modres = []\n",
      "\n",
      "for p in models:\n",
      "    x = {}\n",
      "    obsdiff = []\n",
      "    f = plt.figure()\n",
      "    ax = f.add_subplot(111)\n",
      "    \n",
      "    d = np.random.random((10,20))\n",
      "    ax.imshow(d, interpolation='nearest')\n",
      "    \n",
      "    oname_png = p + '.png'\n",
      "    oname_gif = p + '.jpg'\n",
      "   \n",
      "    ax.set_title(oname_png)\n",
      "    f.savefig(odir + oname_png)\n",
      "    ax.set_title(oname_gif)\n",
      "    f.savefig(odir + oname_gif)\n",
      "    \n",
      "    for o in observations:\n",
      "        oname_obs = 'difference_' + p.upper() + '_' + o.upper() + '.png'\n",
      "        ax.set_title(oname_obs)\n",
      "        f.savefig(odir + oname_obs) \n",
      "        obsdiff.append({o : {'file' : oname_obs, 'caption' : 'This is a testcaption using model ' + p + ' and observation ' + o}})\n",
      "    \n",
      "    x.update({'graphic1' : oname_png})\n",
      "    x.update({'graphic_test' : oname_gif})\n",
      "    x.update({'observations' : obsdiff})\n",
      "    modres.append({p : x})  # note that it is important to have a list here to ensure that the sequence information is preserved\n",
      "    del x\n",
      "    del obsdiff\n",
      "\n",
      "res.update({'models' : modres})\n",
      "\n",
      "# save results to interface file\n",
      "dicname_s = odir + 'sea_ice.yml'\n",
      "dicname_a = odir + 'albedo.yml'\n",
      "\n",
      "if os.path.exists(dicname_s):\n",
      "    os.remove(dicname_s)\n",
      "if os.path.exists(dicname_a):\n",
      "    os.remove(dicname_a)\n",
      "    \n",
      "yaml.dump(res, stream=open(dicname_s,'w'), default_flow_style=False)  # same dictionaries are here used only for testing\n",
      "yaml.dump(res, stream=open(dicname_a,'w'), default_flow_style=False)\n"
     ],
     "language": "python",
     "metadata": {},
     "outputs": [],
     "prompt_number": 1
    },
    {
     "cell_type": "code",
     "collapsed": false,
     "input": [
      "!ls $odir"
     ],
     "language": "python",
     "metadata": {},
     "outputs": [
      {
       "output_type": "stream",
       "stream": "stdout",
       "text": [
        "albedo.yml\t\t\t       GFDL.jpg\r\n",
        "difference_GFDL_CCI-AEROSOL.png        GFDL.png\r\n",
        "difference_GFDL_GLOBALBEDO.png\t       MPI-ESM-LR.jpg\r\n",
        "difference_GFDL_GLOBSNOW.png\t       MPI-ESM-LR.png\r\n",
        "difference_MPI-ESM-LR_CCI-AEROSOL.png  MPI-ESM-MR.jpg\r\n",
        "difference_MPI-ESM-LR_GLOBALBEDO.png   MPI-ESM-MR.png\r\n",
        "difference_MPI-ESM-LR_GLOBSNOW.png     my_albedo_test.rst\r\n",
        "difference_MPI-ESM-MR_CCI-AEROSOL.png  my_sea_ice_test.rst\r\n",
        "difference_MPI-ESM-MR_GLOBALBEDO.png   sea_ice.yml\r\n",
        "difference_MPI-ESM-MR_GLOBSNOW.png\r\n"
       ]
      }
     ],
     "prompt_number": 2
    },
    {
     "cell_type": "code",
     "collapsed": false,
     "input": [
      "# reload interface file\n",
      "o = yaml.load(open(dicname_s, 'r'))\n",
      "print(o)"
     ],
     "language": "python",
     "metadata": {},
     "outputs": [
      {
       "output_type": "stream",
       "stream": "stdout",
       "text": [
        "{'models': [{'MPI-ESM-LR': {'graphic_test': 'MPI-ESM-LR.jpg', 'observations': [{'GlobSnow': {'caption': 'This is a testcaption using model MPI-ESM-LR and observation GlobSnow', 'file': 'difference_MPI-ESM-LR_GLOBSNOW.png'}}, {'GlobAlbedo': {'caption': 'This is a testcaption using model MPI-ESM-LR and observation GlobAlbedo', 'file': 'difference_MPI-ESM-LR_GLOBALBEDO.png'}}, {'CCI-Aerosol': {'caption': 'This is a testcaption using model MPI-ESM-LR and observation CCI-Aerosol', 'file': 'difference_MPI-ESM-LR_CCI-AEROSOL.png'}}], 'graphic1': 'MPI-ESM-LR.png'}}, {'GFDL': {'graphic_test': 'GFDL.jpg', 'observations': [{'GlobSnow': {'caption': 'This is a testcaption using model GFDL and observation GlobSnow', 'file': 'difference_GFDL_GLOBSNOW.png'}}, {'GlobAlbedo': {'caption': 'This is a testcaption using model GFDL and observation GlobAlbedo', 'file': 'difference_GFDL_GLOBALBEDO.png'}}, {'CCI-Aerosol': {'caption': 'This is a testcaption using model GFDL and observation CCI-Aerosol', 'file': 'difference_GFDL_CCI-AEROSOL.png'}}], 'graphic1': 'GFDL.png'}}, {'MPI-ESM-MR': {'graphic_test': 'MPI-ESM-MR.jpg', 'observations': [{'GlobSnow': {'caption': 'This is a testcaption using model MPI-ESM-MR and observation GlobSnow', 'file': 'difference_MPI-ESM-MR_GLOBSNOW.png'}}, {'GlobAlbedo': {'caption': 'This is a testcaption using model MPI-ESM-MR and observation GlobAlbedo', 'file': 'difference_MPI-ESM-MR_GLOBALBEDO.png'}}, {'CCI-Aerosol': {'caption': 'This is a testcaption using model MPI-ESM-MR and observation CCI-Aerosol', 'file': 'difference_MPI-ESM-MR_CCI-AEROSOL.png'}}], 'graphic1': 'MPI-ESM-MR.png'}}]}\n"
       ]
      }
     ],
     "prompt_number": 3
    },
    {
     "cell_type": "code",
     "collapsed": false,
     "input": [
      "!cat $dicname_s"
     ],
     "language": "python",
     "metadata": {},
     "outputs": [
      {
       "output_type": "stream",
       "stream": "stdout",
       "text": [
        "models:\r\n",
        "- MPI-ESM-LR:\r\n",
        "    graphic1: MPI-ESM-LR.png\r\n",
        "    graphic_test: MPI-ESM-LR.jpg\r\n",
        "    observations:\r\n",
        "    - GlobSnow:\r\n",
        "        caption: This is a testcaption using model MPI-ESM-LR and observation GlobSnow\r\n",
        "        file: difference_MPI-ESM-LR_GLOBSNOW.png\r\n",
        "    - GlobAlbedo:\r\n",
        "        caption: This is a testcaption using model MPI-ESM-LR and observation GlobAlbedo\r\n",
        "        file: difference_MPI-ESM-LR_GLOBALBEDO.png\r\n",
        "    - CCI-Aerosol:\r\n",
        "        caption: This is a testcaption using model MPI-ESM-LR and observation CCI-Aerosol\r\n",
        "        file: difference_MPI-ESM-LR_CCI-AEROSOL.png\r\n",
        "- GFDL:\r\n",
        "    graphic1: GFDL.png\r\n",
        "    graphic_test: GFDL.jpg\r\n",
        "    observations:\r\n",
        "    - GlobSnow:\r\n",
        "        caption: This is a testcaption using model GFDL and observation GlobSnow\r\n",
        "        file: difference_GFDL_GLOBSNOW.png\r\n",
        "    - GlobAlbedo:\r\n",
        "        caption: This is a testcaption using model GFDL and observation GlobAlbedo\r\n",
        "        file: difference_GFDL_GLOBALBEDO.png\r\n",
        "    - CCI-Aerosol:\r\n",
        "        caption: This is a testcaption using model GFDL and observation CCI-Aerosol\r\n",
        "        file: difference_GFDL_CCI-AEROSOL.png\r\n",
        "- MPI-ESM-MR:\r\n",
        "    graphic1: MPI-ESM-MR.png\r\n",
        "    graphic_test: MPI-ESM-MR.jpg\r\n",
        "    observations:\r\n",
        "    - GlobSnow:\r\n",
        "        caption: This is a testcaption using model MPI-ESM-MR and observation GlobSnow\r\n",
        "        file: difference_MPI-ESM-MR_GLOBSNOW.png\r\n",
        "    - GlobAlbedo:\r\n",
        "        caption: This is a testcaption using model MPI-ESM-MR and observation GlobAlbedo\r\n",
        "        file: difference_MPI-ESM-MR_GLOBALBEDO.png\r\n",
        "    - CCI-Aerosol:\r\n",
        "        caption: This is a testcaption using model MPI-ESM-MR and observation CCI-Aerosol\r\n",
        "        file: difference_MPI-ESM-MR_CCI-AEROSOL.png\r\n"
       ]
      }
     ],
     "prompt_number": 4
    },
    {
     "cell_type": "markdown",
     "metadata": {},
     "source": [
      "Now we have generated a directory with sample files that can be read using `smartreport`"
     ]
    },
    {
     "cell_type": "heading",
     "level": 1,
     "metadata": {},
     "source": [
      "Run example"
     ]
    },
    {
     "cell_type": "markdown",
     "metadata": {},
     "source": [
      "Note, that if you include images in your report, then the data directory where you have put the data should be the same as the report directory. Otherwise the link to the images will not be correct!"
     ]
    },
    {
     "cell_type": "code",
     "collapsed": false,
     "input": [
      "from easyreport import Report\n",
      "template_seaice = 'seaice_template.rst'  # name of template file\n",
      "template_albedo = 'albedo_template.rst'  \n",
      "interface_file_s = odir + 'sea_ice.yml'  # file which is the result of the processing above\n",
      "interface_file_a = odir + 'albedo.yml'  # file which is the result of the processing above\n",
      "suffix = 'rst'  # format to write results to\n",
      "\n",
      "R = Report(template_seaice, interface_file_s, suffix=suffix, output_directory=odir, output_file='my_sea_ice_test.rst')\n",
      "R.parse()  # parse interface data\n",
      "\n",
      "\n",
      "R1 = Report(template_albedo, interface_file_a, suffix=suffix, output_directory=odir, output_file='my_albedo_test.rst')\n",
      "R1.parse()  # parse interface data\n",
      "\n",
      "# generate SPHINX files (run option False means that only files are generated, but no index.rst is created)\n",
      "R.compile(run=False)  \n",
      "R1.compile(run=False)  \n",
      "\n",
      "# no run sphinx by providing a list of all files to be processed\n",
      "R1._run_sphinx([R.output_file, R1.output_file])\n"
     ],
     "language": "python",
     "metadata": {},
     "outputs": [
      {
       "ename": "IOError",
       "evalue": "[Errno 2] No such file or directory: './working/data/index_template.rst'",
       "output_type": "pyerr",
       "traceback": [
        "\u001b[1;31m---------------------------------------------------------------------------\u001b[0m\n\u001b[1;31mIOError\u001b[0m                                   Traceback (most recent call last)",
        "\u001b[1;32m<ipython-input-5-0affbc9d5590>\u001b[0m in \u001b[0;36m<module>\u001b[1;34m()\u001b[0m\n\u001b[0;32m     18\u001b[0m \u001b[1;33m\u001b[0m\u001b[0m\n\u001b[0;32m     19\u001b[0m \u001b[1;31m# no run sphinx by providing a list of all files to be processed\u001b[0m\u001b[1;33m\u001b[0m\u001b[1;33m\u001b[0m\u001b[0m\n\u001b[1;32m---> 20\u001b[1;33m \u001b[0mR1\u001b[0m\u001b[1;33m.\u001b[0m\u001b[0m_run_sphinx\u001b[0m\u001b[1;33m(\u001b[0m\u001b[1;33m[\u001b[0m\u001b[0mR\u001b[0m\u001b[1;33m.\u001b[0m\u001b[0moutput_file\u001b[0m\u001b[1;33m,\u001b[0m \u001b[0mR1\u001b[0m\u001b[1;33m.\u001b[0m\u001b[0moutput_file\u001b[0m\u001b[1;33m]\u001b[0m\u001b[1;33m)\u001b[0m\u001b[1;33m\u001b[0m\u001b[0m\n\u001b[0m",
        "\u001b[1;32m/home/m300028/shared/dev/svn/easyreport/easyreport/report.pyc\u001b[0m in \u001b[0;36m_run_sphinx\u001b[1;34m(self, flist)\u001b[0m\n\u001b[0;32m    102\u001b[0m         \"\"\"\n\u001b[0;32m    103\u001b[0m \u001b[1;33m\u001b[0m\u001b[0m\n\u001b[1;32m--> 104\u001b[1;33m         \u001b[0mself\u001b[0m\u001b[1;33m.\u001b[0m\u001b[0m_gen_sphinx_template\u001b[0m\u001b[1;33m(\u001b[0m\u001b[0mflist\u001b[0m\u001b[1;33m)\u001b[0m\u001b[1;33m\u001b[0m\u001b[0m\n\u001b[0m\u001b[0;32m    105\u001b[0m         \u001b[0mcurdir\u001b[0m\u001b[1;33m=\u001b[0m\u001b[0mos\u001b[0m\u001b[1;33m.\u001b[0m\u001b[0mcurdir\u001b[0m\u001b[1;33m\u001b[0m\u001b[0m\n\u001b[0;32m    106\u001b[0m         \u001b[0mos\u001b[0m\u001b[1;33m.\u001b[0m\u001b[0mchdir\u001b[0m\u001b[1;33m(\u001b[0m\u001b[0mself\u001b[0m\u001b[1;33m.\u001b[0m\u001b[0moutput_directory\u001b[0m\u001b[1;33m)\u001b[0m\u001b[1;33m\u001b[0m\u001b[0m\n",
        "\u001b[1;32m/home/m300028/shared/dev/svn/easyreport/easyreport/report.pyc\u001b[0m in \u001b[0;36m_gen_sphinx_template\u001b[1;34m(self, flist)\u001b[0m\n\u001b[0;32m    122\u001b[0m \u001b[1;33m\u001b[0m\u001b[0m\n\u001b[0;32m    123\u001b[0m         \u001b[1;31m# modify index file\u001b[0m\u001b[1;33m\u001b[0m\u001b[1;33m\u001b[0m\u001b[0m\n\u001b[1;32m--> 124\u001b[1;33m         \u001b[0mF\u001b[0m \u001b[1;33m=\u001b[0m \u001b[0mopen\u001b[0m\u001b[1;33m(\u001b[0m\u001b[0mself\u001b[0m\u001b[1;33m.\u001b[0m\u001b[0moutput_directory\u001b[0m \u001b[1;33m+\u001b[0m \u001b[1;34m'index_template.rst'\u001b[0m\u001b[1;33m)\u001b[0m\u001b[1;33m\u001b[0m\u001b[0m\n\u001b[0m\u001b[0;32m    125\u001b[0m         \u001b[0mofile\u001b[0m \u001b[1;33m=\u001b[0m \u001b[0mself\u001b[0m\u001b[1;33m.\u001b[0m\u001b[0moutput_directory\u001b[0m \u001b[1;33m+\u001b[0m \u001b[1;34m'index.rst'\u001b[0m\u001b[1;33m\u001b[0m\u001b[0m\n\u001b[0;32m    126\u001b[0m         \u001b[1;32mif\u001b[0m \u001b[0mos\u001b[0m\u001b[1;33m.\u001b[0m\u001b[0mpath\u001b[0m\u001b[1;33m.\u001b[0m\u001b[0mexists\u001b[0m\u001b[1;33m(\u001b[0m\u001b[0mofile\u001b[0m\u001b[1;33m)\u001b[0m\u001b[1;33m:\u001b[0m\u001b[1;33m\u001b[0m\u001b[0m\n",
        "\u001b[1;31mIOError\u001b[0m: [Errno 2] No such file or directory: './working/data/index_template.rst'"
       ]
      }
     ],
     "prompt_number": 5
    },
    {
     "cell_type": "code",
     "collapsed": false,
     "input": [],
     "language": "python",
     "metadata": {},
     "outputs": []
    },
    {
     "cell_type": "code",
     "collapsed": false,
     "input": [],
     "language": "python",
     "metadata": {},
     "outputs": []
    }
   ],
   "metadata": {}
  }
 ]
}