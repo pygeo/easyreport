{
 "metadata": {
  "name": "",
  "signature": "sha256:e424c4e62b7f2e0ad6ec4773a80f7bed07e9bf869e19621543cabdf0426a6493"
 },
 "nbformat": 3,
 "nbformat_minor": 0,
 "worksheets": [
  {
   "cells": [
    {
     "cell_type": "heading",
     "level": 1,
     "metadata": {},
     "source": [
      "Create example data for easyreport"
     ]
    },
    {
     "cell_type": "code",
     "collapsed": false,
     "input": [
      "import yaml\n",
      "import os\n",
      "import matplotlib.pyplot as plt\n",
      "import numpy as np\n",
      "\n",
      "wdir = '.' + os.sep + 'working' + os.sep\n",
      "odir =  wdir + 'data' + os.sep\n",
      "\n",
      "#if not os.path.exists(odir):\n",
      "#    os.system('mkdir -p ' + odir)  # makedirs does not work for some reason\n",
      "\n",
      "if not os.path.exists(odir):\n",
      "    os.makedirs(odir)\n",
      "\n",
      "res = {}\n",
      "\n",
      "models = ['MPI-ESM-LR', 'GFDL', 'MPI-ESM-MR']\n",
      "observations = ['GlobSnow', 'GlobAlbedo', 'CCI-Aerosol']\n",
      "modres = []\n",
      "\n",
      "for p in models:\n",
      "    x = {}\n",
      "    obsdiff = []\n",
      "    f = plt.figure()\n",
      "    ax = f.add_subplot(111)\n",
      "    \n",
      "    d = np.random.random((10,20))\n",
      "    ax.imshow(d, interpolation='nearest')\n",
      "    \n",
      "    oname_png = p + '.png'\n",
      "    oname_gif = p + '.jpg'\n",
      "   \n",
      "    ax.set_title(oname_png)\n",
      "    f.savefig(odir + oname_png)\n",
      "    ax.set_title(oname_gif)\n",
      "    f.savefig(odir + oname_gif)\n",
      "    \n",
      "    for o in observations:\n",
      "        oname_obs = 'difference_' + p.upper() + '_' + o.upper() + '.png'\n",
      "        ax.set_title(oname_obs)\n",
      "        f.savefig(odir + oname_obs) \n",
      "        obsdiff.append({o : {'file' : oname_obs, 'caption' : 'This is a testcaption using model ' + p + ' and observation ' + o}})\n",
      "    \n",
      "    x.update({'graphic1' : oname_png})\n",
      "    x.update({'graphic_test' : oname_gif})\n",
      "    x.update({'observations' : obsdiff})\n",
      "    modres.append({p : x})  # note that it is important to have a list here to ensure that the sequence information is preserved\n",
      "    del x\n",
      "    del obsdiff\n",
      "\n",
      "res.update({'models' : modres})\n",
      "\n",
      "# save results to interface file\n",
      "dicname = odir + 'sea_ice.yml'\n",
      "if os.path.exists(dicname):\n",
      "    os.remove(dicname)\n",
      "yaml.dump(res, stream=open(dicname,'w'), default_flow_style=False)\n"
     ],
     "language": "python",
     "metadata": {},
     "outputs": [
      {
       "output_type": "stream",
       "stream": "stdout",
       "text": [
        "Traceback (most recent call last):\n",
        "  File \"/usr/local/lib/python2.7/dist-packages/IPython/core/ultratb.py\", line 776, in structured_traceback\n",
        "    records = _fixed_getinnerframes(etb, context, tb_offset)\n"
       ]
      },
      {
       "output_type": "stream",
       "stream": "stdout",
       "text": [
        "  File \"/usr/local/lib/python2.7/dist-packages/IPython/core/ultratb.py\", line 230, in wrapped\n",
        "    return f(*args, **kwargs)\n",
        "  File \"/usr/local/lib/python2.7/dist-packages/IPython/core/ultratb.py\", line 259, in _fixed_getinnerframes\n",
        "    records  = fix_frame_records_filenames(inspect.getinnerframes(etb, context))\n",
        "  File \"/usr/lib/python2.7/inspect.py\", line 1043, in getinnerframes\n",
        "    framelist.append((tb.tb_frame,) + getframeinfo(tb, context))\n",
        "  File \"/usr/lib/python2.7/inspect.py\", line 1003, in getframeinfo\n",
        "    filename = getsourcefile(frame) or getfile(frame)\n",
        "  File \"/usr/lib/python2.7/inspect.py\", line 454, in getsourcefile\n",
        "    if hasattr(getmodule(object, filename), '__loader__'):\n",
        "  File \"/usr/lib/python2.7/inspect.py\", line 483, in getmodule\n",
        "    file = getabsfile(object, _filename)\n",
        "  File \"/usr/lib/python2.7/inspect.py\", line 467, in getabsfile\n",
        "    return os.path.normcase(os.path.abspath(_filename))\n",
        "  File \"/usr/lib/python2.7/posixpath.py\", line 347, in abspath\n",
        "    cwd = os.getcwd()\n"
       ]
      },
      {
       "output_type": "stream",
       "stream": "stderr",
       "text": [
        "ERROR: Internal Python error in the inspect module.\n",
        "Below is the traceback from this internal error.\n",
        "\n"
       ]
      },
      {
       "output_type": "stream",
       "stream": "stdout",
       "text": [
        "OSError: [Errno 2] No such file or directory\n"
       ]
      },
      {
       "output_type": "stream",
       "stream": "stderr",
       "text": [
        "\n",
        "Unfortunately, your original traceback can not be constructed.\n",
        "\n"
       ]
      },
      {
       "ename": "OSError",
       "evalue": "[Errno 2] No such file or directory: './working'",
       "output_type": "pyerr",
       "traceback": ""
      }
     ],
     "prompt_number": 6
    },
    {
     "cell_type": "code",
     "collapsed": false,
     "input": [
      "!ls $odir"
     ],
     "language": "python",
     "metadata": {},
     "outputs": []
    },
    {
     "cell_type": "code",
     "collapsed": false,
     "input": [
      "# reload interface file\n",
      "o = yaml.load(open(dicname, 'r'))\n",
      "print(o)"
     ],
     "language": "python",
     "metadata": {},
     "outputs": []
    },
    {
     "cell_type": "code",
     "collapsed": false,
     "input": [
      "!cat $dicname"
     ],
     "language": "python",
     "metadata": {},
     "outputs": []
    },
    {
     "cell_type": "markdown",
     "metadata": {},
     "source": [
      "Now we have generated a directory with sample files that can be read using `smartreport`"
     ]
    },
    {
     "cell_type": "heading",
     "level": 1,
     "metadata": {},
     "source": [
      "Run example"
     ]
    },
    {
     "cell_type": "code",
     "collapsed": false,
     "input": [
      "from easyreport import Report\n",
      "template = 'seaice_template.rst'  # name of template file\n",
      "interface_file = odir + 'sea_ice.yml'  # file which is the result of the processing above\n",
      "suffix = 'rst'  # format to write results to\n",
      "\n",
      "R = Report(template, interface_file, suffix=suffix, output_directory=wdir + 'report', output_file='my_sea_ice_test.rst')\n",
      "R.parse()  # parse interface data\n",
      "R.compile()"
     ],
     "language": "python",
     "metadata": {},
     "outputs": []
    },
    {
     "cell_type": "code",
     "collapsed": false,
     "input": [],
     "language": "python",
     "metadata": {},
     "outputs": []
    }
   ],
   "metadata": {}
  }
 ]
}